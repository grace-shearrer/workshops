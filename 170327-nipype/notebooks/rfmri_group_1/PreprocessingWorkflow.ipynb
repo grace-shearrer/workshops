{
 "cells": [
  {
   "cell_type": "code",
   "execution_count": 15,
   "metadata": {},
   "outputs": [],
   "source": [
    "# Import workflow elements\n",
    "from nipype import Node, Workflow\n",
    "from IPython.display import Image\n",
    "import warnings\n",
    "from nipype.interfaces import fsl"
   ]
  },
  {
   "cell_type": "code",
   "execution_count": 16,
   "metadata": {},
   "outputs": [],
   "source": [
    "# Import necessary interfaces"
   ]
  },
  {
   "cell_type": "code",
   "execution_count": 17,
   "metadata": {},
   "outputs": [],
   "source": [
    "# make nodes\n",
    "node_bet = Node(fsl.BET (functional=True), name='fsl_bet')\n",
    "# gonna want plots and mat\n",
    "node_mcFlirt = Node(fsl.MCFLIRT(save_mats=True,save_plots=True), name='motion_corr')"
   ]
  },
  {
   "cell_type": "code",
   "execution_count": 20,
   "metadata": {},
   "outputs": [],
   "source": [
    "# define workflow\n",
    "wf = Workflow(name=\"group_workflow\")\n",
    "wf.base_dir = 'Group_test'"
   ]
  },
  {
   "cell_type": "code",
   "execution_count": 21,
   "metadata": {},
   "outputs": [],
   "source": [
    "# workflow connect\n",
    "wf.connect([\n",
    "    (node_bet, node_mcFlirt, [(\"out_file\", \"in_file\")])\n",
    "])"
   ]
  },
  {
   "cell_type": "code",
   "execution_count": 22,
   "metadata": {},
   "outputs": [
    {
     "name": "stdout",
     "output_type": "stream",
     "text": [
      "170329-15:02:38,663 workflow INFO:\n",
      "\t Generated workflow graph: Group_test/group_workflow/graph.dot.png (graph2use=hierarchical, simple_form=True).\n"
     ]
    },
    {
     "data": {
      "image/png": "[encoded data removed]",
      "text/plain": [
       "<IPython.core.display.Image object>"
      ]
     },
     "execution_count": 22,
     "metadata": {},
     "output_type": "execute_result"
    }
   ],
   "source": [
    "#make neat graph\n",
    "Image(filename=wf.write_graph())"
   ]
  },
  {
   "cell_type": "code",
   "execution_count": null,
   "metadata": {},
   "outputs": [
    {
     "name": "stdout",
     "output_type": "stream",
     "text": [
      "170329-15:03:13,141 workflow INFO:\n",
      "\t Workflow group_workflow settings: ['check', 'execution', 'logging']\n",
      "170329-15:03:13,194 workflow INFO:\n",
      "\t Running serially.\n",
      "170329-15:03:13,199 workflow INFO:\n",
      "\t Executing node fsl_bet in dir: /home/jovyan/work/170327-nipype/notebooks/rfmri_group_1/Group_test/group_workflow/fsl_bet\n",
      "170329-15:03:13,261 workflow INFO:\n",
      "\t Running: bet /home/jovyan/work/ds000114/sub-01/func/sub-01_task-linebisection_bold.nii.gz /home/jovyan/work/170327-nipype/notebooks/rfmri_group_1/Group_test/group_workflow/fsl_bet/sub-01_task-linebisection_bold_brain.nii.gz -F\n"
     ]
    }
   ],
   "source": [
    "#define the inputs\n",
    "wf.inputs.fsl_bet.in_file = '/home/jovyan/work/ds000114/sub-01/func/sub-01_task-linebisection_bold.nii.gz'\n",
    "execution_graph=wf.run()"
   ]
  },
  {
   "cell_type": "code",
   "execution_count": null,
   "metadata": {},
   "outputs": [],
   "source": []
  }
 ],
 "metadata": {
  "kernelspec": {
   "display_name": "Python 3",
   "language": "python",
   "name": "python3"
  },
  "language_info": {
   "codemirror_mode": {
    "name": "ipython",
    "version": 3
   },
   "file_extension": ".py",
   "mimetype": "text/x-python",
   "name": "python",
   "nbconvert_exporter": "python",
   "pygments_lexer": "ipython3",
   "version": "3.5.2"
  }
 },
 "nbformat": 4,
 "nbformat_minor": 2
}
